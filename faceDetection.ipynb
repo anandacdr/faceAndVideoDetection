{
 "cells": [
  {
   "cell_type": "markdown",
   "id": "f1225065",
   "metadata": {},
   "source": [
    "## Single Face Detection"
   ]
  },
  {
   "cell_type": "code",
   "execution_count": 9,
   "id": "6d097af1",
   "metadata": {},
   "outputs": [
    {
     "name": "stdout",
     "output_type": "stream",
     "text": [
      "1/1 [==============================] - 0s 126ms/step\n",
      "1/1 [==============================] - 0s 128ms/step\n",
      "1/1 [==============================] - 0s 24ms/step\n",
      "1/1 [==============================] - 0s 24ms/step\n",
      "1/1 [==============================] - 0s 32ms/step\n",
      "1/1 [==============================] - 0s 24ms/step\n",
      "1/1 [==============================] - 0s 24ms/step\n",
      "1/1 [==============================] - 0s 28ms/step\n",
      "1/1 [==============================] - 0s 24ms/step\n",
      "1/1 [==============================] - 0s 24ms/step\n",
      "1/1 [==============================] - 0s 28ms/step\n",
      "1/1 [==============================] - 0s 28ms/step\n",
      "3/3 [==============================] - 0s 4ms/step\n",
      "1/1 [==============================] - 0s 144ms/step\n",
      "[{'box': [485, 168, 314, 425], 'confidence': 0.9991855025291443, 'keypoints': {'left_eye': (605, 338), 'right_eye': (747, 340), 'nose': (701, 439), 'mouth_left': (596, 490), 'mouth_right': (716, 493)}}]\n"
     ]
    },
    {
     "data": {
      "text/plain": [
       "-1"
      ]
     },
     "execution_count": 9,
     "metadata": {},
     "output_type": "execute_result"
    }
   ],
   "source": [
    "from mtcnn import MTCNN\n",
    "import cv2\n",
    "\n",
    "detector = MTCNN()\n",
    "\n",
    "img = cv2.imread('./images/dalmi.jpg')\n",
    "\n",
    "output = detector.detect_faces(img)\n",
    "print(output)\n",
    "\n",
    "x,y,width,height = output[0]['box']\n",
    "\n",
    "left_eyeX, left_eyeY = output[0]['keypoints']['left_eye']\n",
    "right_eyeX, right_eyeY = output[0]['keypoints']['right_eye']\n",
    "noseX, noseY = output[0]['keypoints']['nose']\n",
    "mouth_leftX, mouth_leftY = output[0]['keypoints']['mouth_left']\n",
    "mouth_rightX, mouth_rightY = output[0]['keypoints']['mouth_right']\n",
    "\n",
    "\n",
    "\n",
    "cv2.circle(img, center = (left_eyeX, left_eyeY), color=(255,0,0), thickness=3, radius=2)\n",
    "cv2.circle(img, center = (right_eyeX, right_eyeY), color=(255,0,0), thickness=3, radius=2)\n",
    "cv2.circle(img, center = (noseX, noseY), color=(255,0,0), thickness=3, radius=2)\n",
    "cv2.circle(img, center = (mouth_leftX, mouth_leftY), color=(255,0,0), thickness=3, radius=2)\n",
    "cv2.circle(img, center = (mouth_leftX, mouth_rightY), color=(255,0,0), thickness=3, radius=2)\n",
    "\n",
    "cv2.rectangle(img, pt1 = (x,y), pt2=(x+width, y+height), color = (255,0,0), thickness = 3)\n",
    "cv2.imshow('window', img)\n",
    "\n",
    "\n",
    "cv2.waitKey(0)\n"
   ]
  },
  {
   "cell_type": "markdown",
   "id": "406663a7",
   "metadata": {},
   "source": [
    "## Multiple Faces Detection"
   ]
  },
  {
   "cell_type": "code",
   "execution_count": 14,
   "id": "ff11bf95",
   "metadata": {},
   "outputs": [
    {
     "name": "stdout",
     "output_type": "stream",
     "text": [
      "1/1 [==============================] - 0s 100ms/step\n",
      "1/1 [==============================] - 0s 100ms/step\n",
      "1/1 [==============================] - 0s 31ms/step\n",
      "1/1 [==============================] - 0s 16ms/step\n",
      "1/1 [==============================] - 0s 31ms/step\n",
      "1/1 [==============================] - 0s 16ms/step\n",
      "1/1 [==============================] - 0s 22ms/step\n",
      "1/1 [==============================] - 0s 31ms/step\n",
      "1/1 [==============================] - 0s 16ms/step\n",
      "1/1 [==============================] - 0s 22ms/step\n",
      "1/1 [==============================] - 0s 16ms/step\n",
      "1/1 [==============================] - 0s 16ms/step\n",
      "17/17 [==============================] - 0s 4ms/step\n",
      "1/1 [==============================] - 0s 132ms/step\n",
      "[{'box': [958, 522, 121, 150], 'confidence': 0.9999023675918579, 'keypoints': {'left_eye': (997, 579), 'right_eye': (1054, 584), 'nose': (1026, 613), 'mouth_left': (994, 634), 'mouth_right': (1046, 639)}}, {'box': [571, 60, 92, 114], 'confidence': 0.9989694356918335, 'keypoints': {'left_eye': (597, 98), 'right_eye': (640, 98), 'nose': (620, 118), 'mouth_left': (596, 142), 'mouth_right': (639, 144)}}, {'box': [142, 119, 167, 203], 'confidence': 0.9986777901649475, 'keypoints': {'left_eye': (213, 191), 'right_eye': (286, 191), 'nose': (263, 236), 'mouth_left': (213, 271), 'mouth_right': (275, 274)}}, {'box': [927, 72, 118, 142], 'confidence': 0.997742772102356, 'keypoints': {'left_eye': (955, 118), 'right_eye': (1009, 125), 'nose': (974, 152), 'mouth_left': (949, 173), 'mouth_right': (997, 180)}}, {'box': [536, 531, 100, 131], 'confidence': 0.9965816140174866, 'keypoints': {'left_eye': (562, 582), 'right_eye': (609, 587), 'nose': (578, 616), 'mouth_left': (560, 635), 'mouth_right': (601, 640)}}, {'box': [154, 548, 144, 185], 'confidence': 0.9951979517936707, 'keypoints': {'left_eye': (200, 614), 'right_eye': (265, 631), 'nose': (224, 667), 'mouth_left': (187, 687), 'mouth_right': (237, 702)}}]\n"
     ]
    },
    {
     "data": {
      "text/plain": [
       "-1"
      ]
     },
     "execution_count": 14,
     "metadata": {},
     "output_type": "execute_result"
    }
   ],
   "source": [
    "\n",
    "from mtcnn import MTCNN\n",
    "import cv2\n",
    "\n",
    "detector = MTCNN()\n",
    "\n",
    "img = cv2.imread('./images/actor.jfif')\n",
    "\n",
    "output = detector.detect_faces(img)\n",
    "print(output)\n",
    "\n",
    "for i in output:\n",
    "    x,y,width,height = i['box']\n",
    "\n",
    "    left_eyeX, left_eyeY = i['keypoints']['left_eye']\n",
    "    right_eyeX, right_eyeY = i['keypoints']['right_eye']\n",
    "    noseX, noseY = i['keypoints']['nose']\n",
    "    mouth_leftX, mouth_leftY = i['keypoints']['mouth_left']\n",
    "    mouth_rightX, mouth_rightY = i['keypoints']['mouth_right']\n",
    "\n",
    "\n",
    "\n",
    "    cv2.circle(img, center = (left_eyeX, left_eyeY), color=(255,0,0), thickness=3, radius=2)\n",
    "    cv2.circle(img, center = (right_eyeX, right_eyeY), color=(255,0,0), thickness=3, radius=2)\n",
    "    cv2.circle(img, center = (noseX, noseY), color=(255,0,0), thickness=3, radius=2)\n",
    "    cv2.circle(img, center = (mouth_leftX, mouth_leftY), color=(255,0,0), thickness=3, radius=2)\n",
    "    cv2.circle(img, center = (mouth_leftX, mouth_rightY), color=(255,0,0), thickness=3, radius=2)\n",
    "\n",
    "    cv2.rectangle(img, pt1 = (x,y), pt2=(x+width, y+height), color = (255,0,0), thickness = 3)\n",
    "cv2.imshow('window', img)\n",
    "\n",
    "\n",
    "cv2.waitKey(0)\n"
   ]
  },
  {
   "cell_type": "code",
   "execution_count": null,
   "id": "414b974c",
   "metadata": {},
   "outputs": [],
   "source": []
  }
 ],
 "metadata": {
  "kernelspec": {
   "display_name": "Python 3 (ipykernel)",
   "language": "python",
   "name": "python3"
  },
  "language_info": {
   "codemirror_mode": {
    "name": "ipython",
    "version": 3
   },
   "file_extension": ".py",
   "mimetype": "text/x-python",
   "name": "python",
   "nbconvert_exporter": "python",
   "pygments_lexer": "ipython3",
   "version": "3.9.12"
  }
 },
 "nbformat": 4,
 "nbformat_minor": 5
}
